{
 "cells": [
  {
   "cell_type": "code",
   "execution_count": 153,
   "id": "encouraging-david",
   "metadata": {},
   "outputs": [],
   "source": [
    "import pandas as pd"
   ]
  },
  {
   "cell_type": "code",
   "execution_count": 154,
   "id": "compressed-packaging",
   "metadata": {},
   "outputs": [],
   "source": [
    "df = pd.read_csv(\"data/survey_results_public.csv\", index_col=\"Respondent\")"
   ]
  },
  {
   "cell_type": "code",
   "execution_count": 155,
   "id": "wanted-evolution",
   "metadata": {},
   "outputs": [],
   "source": [
    "schema_df = pd.read_csv(\"data/survey_results_schema.csv\", index_col=\"Column\")"
   ]
  },
  {
   "cell_type": "code",
   "execution_count": 156,
   "id": "noted-insulation",
   "metadata": {},
   "outputs": [],
   "source": [
    "pd.set_option(\"display.max_columns\", df.shape[1])\n",
    "pd.set_option(\"display.max_rows\", 61)"
   ]
  },
  {
   "cell_type": "code",
   "execution_count": 157,
   "id": "valuable-desperate",
   "metadata": {},
   "outputs": [],
   "source": [
    "countries = ['Bangladesh', 'India']\n",
    "filt_countries = (df['Country'].isin(countries))"
   ]
  },
  {
   "cell_type": "code",
   "execution_count": 180,
   "id": "instructional-guinea",
   "metadata": {},
   "outputs": [],
   "source": [
    "bd_filt = (df['Country'] == 'Bangladesh') \n",
    "bd = df.loc[bd_filt]\n",
    "na_filt = (bd['CompTotal'].isna())"
   ]
  },
  {
   "cell_type": "code",
   "execution_count": 182,
   "id": "indie-garage",
   "metadata": {},
   "outputs": [],
   "source": [
    "bd_sal = bd[~na_filt]"
   ]
  },
  {
   "cell_type": "code",
   "execution_count": 194,
   "id": "headed-technology",
   "metadata": {},
   "outputs": [],
   "source": [
    "bd_sal = bd_sal[bd_sal['CompFreq'] == 'Monthly']"
   ]
  },
  {
   "cell_type": "code",
   "execution_count": 216,
   "id": "automotive-draft",
   "metadata": {},
   "outputs": [],
   "source": [
    "bd_sal = bd_sal['CompTotal']"
   ]
  },
  {
   "cell_type": "code",
   "execution_count": 220,
   "id": "understood-extraction",
   "metadata": {
    "scrolled": true
   },
   "outputs": [],
   "source": [
    "mean_sal_bd = bd_sal.loc[bd_sal.between(bd_sal.quantile(.15), bd_sal.quantile(.90))].mean()"
   ]
  },
  {
   "cell_type": "code",
   "execution_count": 207,
   "id": "practical-funeral",
   "metadata": {},
   "outputs": [],
   "source": [
    "ind_sal = df.loc[(df['Country']=='India') & (df['CompFreq'] == 'Monthly') & ~(df['CompTotal'].isna()), 'CompTotal']"
   ]
  },
  {
   "cell_type": "code",
   "execution_count": 221,
   "id": "veterinary-profit",
   "metadata": {
    "scrolled": true
   },
   "outputs": [],
   "source": [
    "mean_sal_in = ind_sal.loc[ind_sal.between(ind_sal.quantile(.15), ind_sal.quantile(.90))].mean()"
   ]
  },
  {
   "cell_type": "code",
   "execution_count": 223,
   "id": "alone-malaysia",
   "metadata": {},
   "outputs": [
    {
     "data": {
      "text/plain": [
       "54619.348837209305"
      ]
     },
     "execution_count": 223,
     "metadata": {},
     "output_type": "execute_result"
    }
   ],
   "source": [
    "mean_sal_bd"
   ]
  },
  {
   "cell_type": "code",
   "execution_count": 224,
   "id": "accepting-quick",
   "metadata": {},
   "outputs": [
    {
     "data": {
      "text/plain": [
       "57007.119022316685"
      ]
     },
     "execution_count": 224,
     "metadata": {},
     "output_type": "execute_result"
    }
   ],
   "source": [
    "mean_sal_in"
   ]
  },
  {
   "cell_type": "code",
   "execution_count": 225,
   "id": "accomplished-solomon",
   "metadata": {},
   "outputs": [],
   "source": [
    "dic = {'BD':mean_sal_bd, 'IN':mean_sal_in}"
   ]
  },
  {
   "cell_type": "code",
   "execution_count": 226,
   "id": "protected-emerald",
   "metadata": {},
   "outputs": [
    {
     "data": {
      "text/plain": [
       "{'BD': 54619.348837209305, 'IN': 57007.119022316685}"
      ]
     },
     "execution_count": 226,
     "metadata": {},
     "output_type": "execute_result"
    }
   ],
   "source": [
    "dic"
   ]
  },
  {
   "cell_type": "code",
   "execution_count": 234,
   "id": "tough-scope",
   "metadata": {},
   "outputs": [],
   "source": [
    "new_df = pd.DataFrame(dic, index=[0])"
   ]
  },
  {
   "cell_type": "code",
   "execution_count": 239,
   "id": "known-quick",
   "metadata": {},
   "outputs": [
    {
     "data": {
      "text/plain": [
       "<AxesSubplot:>"
      ]
     },
     "execution_count": 239,
     "metadata": {},
     "output_type": "execute_result"
    },
    {
     "data": {
      "image/png": "[encoded data removed]",
      "text/plain": [
       "<Figure size 432x288 with 1 Axes>"
      ]
     },
     "metadata": {
      "needs_background": "light"
     },
     "output_type": "display_data"
    }
   ],
   "source": [
    "new_df.iloc[0].plot.barh()"
   ]
  },
  {
   "cell_type": "code",
   "execution_count": 238,
   "id": "premium-wrong",
   "metadata": {},
   "outputs": [
    {
     "name": "stdout",
     "output_type": "stream",
     "text": [
      "Help on function bar in module pandas.plotting._core:\n",
      "\n",
      "bar(self, x=None, y=None, **kwargs)\n",
      "    Vertical bar plot.\n",
      "    \n",
      "    A bar plot is a plot that presents categorical data with\n",
      "    rectangular bars with lengths proportional to the values that they\n",
      "    represent. A bar plot shows comparisons among discrete categories. One\n",
      "    axis of the plot shows the specific categories being compared, and the\n",
      "    other axis represents a measured value.\n",
      "    \n",
      "    Parameters\n",
      "    ----------\n",
      "    x : label or position, optional\n",
      "        Allows plotting of one column versus another. If not specified,\n",
      "        the index of the DataFrame is used.\n",
      "    y : label or position, optional\n",
      "        Allows plotting of one column versus another. If not specified,\n",
      "        all numerical columns are used.\n",
      "    color : str, array_like, or dict, optional\n",
      "        The color for each of the DataFrame's columns. Possible values are:\n",
      "    \n",
      "        - A single color string referred to by name, RGB or RGBA code,\n",
      "            for instance 'red' or '#a98d19'.\n",
      "    \n",
      "        - A sequence of color strings referred to by name, RGB or RGBA\n",
      "            code, which will be used for each column recursively. For\n",
      "            instance ['green','yellow'] each column's bar will be filled in\n",
      "            green or yellow, alternatively.\n",
      "    \n",
      "        - A dict of the form {column name : color}, so that each column will be\n",
      "            colored accordingly. For example, if your columns are called `a` and\n",
      "            `b`, then passing {'a': 'green', 'b': 'red'} will color bars for\n",
      "            column `a` in green and bars for column `b` in red.\n",
      "    \n",
      "        .. versionadded:: 1.1.0\n",
      "    \n",
      "    **kwargs\n",
      "        Additional keyword arguments are documented in\n",
      "        :meth:`DataFrame.plot`.\n",
      "    \n",
      "    Returns\n",
      "    -------\n",
      "    matplotlib.axes.Axes or np.ndarray of them\n",
      "        An ndarray is returned with one :class:`matplotlib.axes.Axes`\n",
      "        per column when ``subplots=True``.\n",
      "    \n",
      "            See Also\n",
      "            --------\n",
      "            DataFrame.plot.barh : Horizontal bar plot.\n",
      "            DataFrame.plot : Make plots of a DataFrame.\n",
      "            matplotlib.pyplot.bar : Make a bar plot with matplotlib.\n",
      "    \n",
      "            Examples\n",
      "            --------\n",
      "            Basic plot.\n",
      "    \n",
      "            .. plot::\n",
      "                :context: close-figs\n",
      "    \n",
      "                >>> df = pd.DataFrame({'lab':['A', 'B', 'C'], 'val':[10, 30, 20]})\n",
      "                >>> ax = df.plot.bar(x='lab', y='val', rot=0)\n",
      "    \n",
      "            Plot a whole dataframe to a bar plot. Each column is assigned a\n",
      "            distinct color, and each row is nested in a group along the\n",
      "            horizontal axis.\n",
      "    \n",
      "            .. plot::\n",
      "                :context: close-figs\n",
      "    \n",
      "                >>> speed = [0.1, 17.5, 40, 48, 52, 69, 88]\n",
      "                >>> lifespan = [2, 8, 70, 1.5, 25, 12, 28]\n",
      "                >>> index = ['snail', 'pig', 'elephant',\n",
      "                ...          'rabbit', 'giraffe', 'coyote', 'horse']\n",
      "                >>> df = pd.DataFrame({'speed': speed,\n",
      "                ...                    'lifespan': lifespan}, index=index)\n",
      "                >>> ax = df.plot.bar(rot=0)\n",
      "    \n",
      "            Plot stacked bar charts for the DataFrame\n",
      "    \n",
      "            .. plot::\n",
      "                :context: close-figs\n",
      "    \n",
      "                >>> ax = df.plot.bar(stacked=True)\n",
      "    \n",
      "            Instead of nesting, the figure can be split by column with\n",
      "            ``subplots=True``. In this case, a :class:`numpy.ndarray` of\n",
      "            :class:`matplotlib.axes.Axes` are returned.\n",
      "    \n",
      "            .. plot::\n",
      "                :context: close-figs\n",
      "    \n",
      "                >>> axes = df.plot.bar(rot=0, subplots=True)\n",
      "                >>> axes[1].legend(loc=2)  # doctest: +SKIP\n",
      "    \n",
      "            If you don't like the default colours, you can specify how you'd\n",
      "            like each column to be colored.\n",
      "    \n",
      "            .. plot::\n",
      "                :context: close-figs\n",
      "    \n",
      "                >>> axes = df.plot.bar(\n",
      "                ...     rot=0, subplots=True, color={\"speed\": \"red\", \"lifespan\": \"green\"}\n",
      "                ... )\n",
      "                >>> axes[1].legend(loc=2)  # doctest: +SKIP\n",
      "    \n",
      "            Plot a single column.\n",
      "    \n",
      "            .. plot::\n",
      "                :context: close-figs\n",
      "    \n",
      "                >>> ax = df.plot.bar(y='speed', rot=0)\n",
      "    \n",
      "            Plot only selected categories for the DataFrame.\n",
      "    \n",
      "            .. plot::\n",
      "                :context: close-figs\n",
      "    \n",
      "                >>> ax = df.plot.bar(x='lifespan', rot=0)\n",
      "\n"
     ]
    }
   ],
   "source": [
    "help(pd.Series.plot.bar)"
   ]
  }
 ],
 "metadata": {
  "kernelspec": {
   "display_name": "Python 3",
   "language": "python",
   "name": "python3"
  },
  "language_info": {
   "codemirror_mode": {
    "name": "ipython",
    "version": 3
   },
   "file_extension": ".py",
   "mimetype": "text/x-python",
   "name": "python",
   "nbconvert_exporter": "python",
   "pygments_lexer": "ipython3",
   "version": "3.9.2"
  }
 },
 "nbformat": 4,
 "nbformat_minor": 5
}
